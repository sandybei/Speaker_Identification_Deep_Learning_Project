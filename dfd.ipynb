{
 "metadata": {
  "language_info": {
   "codemirror_mode": {
    "name": "ipython",
    "version": 3
   },
   "file_extension": ".py",
   "mimetype": "text/x-python",
   "name": "python",
   "nbconvert_exporter": "python",
   "pygments_lexer": "ipython3",
   "version": "3.8.8"
  },
  "orig_nbformat": 4,
  "kernelspec": {
   "name": "python3",
   "display_name": "Python 3.8.8 64-bit ('vertEnv1': conda)"
  },
  "interpreter": {
   "hash": "e65d691b534fb0aaf9310b2a75abe3a9aa0e1a4f5bc5aa81a5c9b3093959de02"
  }
 },
 "nbformat": 4,
 "nbformat_minor": 2,
 "cells": [
  {
   "cell_type": "code",
   "execution_count": 2,
   "metadata": {},
   "outputs": [],
   "source": [
    "import os\n",
    "from keras.preprocessing import image\n",
    "from keras.models import load_model\n",
    "import numpy as np\n",
    "from tensorflow.keras.preprocessing.image import ImageDataGenerator\n",
    "from process_files import get_metadata\n",
    "from glob import glob"
   ]
  },
  {
   "cell_type": "code",
   "execution_count": 5,
   "metadata": {},
   "outputs": [],
   "source": [
    "def prepare(file):\n",
    "    \"\"\"\n",
    "    This function gets an image and prepares it to feed it to the CNN.\n",
    "\n",
    "    :param file: filepath of image\n",
    "    :return: 1 batch of the image as numpy array\n",
    "    \"\"\"\n",
    "    img = image.load_img(file, target_size=(IMG_HEIGHT, IMG_WIDTH))\n",
    "    img = image.img_to_array(img)\n",
    "    img = img / 255.\n",
    "    img = np.expand_dims(img, axis=0)\n",
    "    return img"
   ]
  },
  {
   "cell_type": "code",
   "execution_count": 6,
   "metadata": {},
   "outputs": [
    {
     "output_type": "stream",
     "name": "stdout",
     "text": [
      "Found 420 images belonging to 10 classes.\n",
      "model loaded\n",
      "7/7 [==============================] - 13s 258ms/step - loss: 0.5617 - accuracy: 0.8214\n",
      "Test loss: 0.56\n",
      "Test accuracy: 82.0 %\n",
      "\n",
      "Prediction:  1\n",
      "Predicted speaker Gloria_Steinem with probability 100.0 %\n",
      "True speaker name: Gloria_Steinem\n",
      "\n",
      "Prediction:  2\n",
      "Predicted speaker Peter_Jackson with probability 89.0 %\n",
      "True speaker name: Tom_Hooper\n",
      "\n",
      "Prediction:  3\n",
      "Predicted speaker Quentin_Tarantino with probability 67.0 %\n",
      "True speaker name: Quentin_Tarantino\n",
      "\n"
     ]
    }
   ],
   "source": [
    "# get datasets directories\n",
    "test_dir = os.path.join('data', 'test')\n",
    "\n",
    "# set dataset generator parameters\n",
    "BATCH_SIZE = 64\n",
    "IMG_HEIGHT = 128\n",
    "IMG_WIDTH = 147\n",
    "N_CHANNELS = 3\n",
    "\n",
    "# load test dataset\n",
    "img_gen = ImageDataGenerator(rescale=1./255)\n",
    "test_ds = img_gen.flow_from_directory(\n",
    "    test_dir,\n",
    "    class_mode='categorical',\n",
    "    target_size=(IMG_HEIGHT,IMG_WIDTH),\n",
    "    seed=0,\n",
    "    batch_size=BATCH_SIZE\n",
    ")\n",
    "\n",
    "# load model\n",
    "model = load_model('model.h5')\n",
    "print('model loaded')\n",
    "\n",
    "# evaluate model on test set\n",
    "score = model.evaluate(test_ds, verbose=1, steps=len(test_ds)) \n",
    "test_loss = round(score[0],2)\n",
    "test_accuracy = round(score[1],2)*100\n",
    "print('Test loss:', test_loss) \n",
    "print(f'Test accuracy: {test_accuracy} %\\n')\n",
    "\n",
    "# get class names\n",
    "folders = glob(\"data/test/*\") \n",
    "class_names = [os.path.basename(folder) for folder in folders]\n",
    "class_names = sorted(class_names) \n",
    "\n",
    "# make predictions on 3 images from the test set\n",
    "files = [os.path.join(test_dir, 'id10343'+ os.sep + '41.png'),\n",
    "    os.path.join(test_dir, 'id11184'+ os.sep + '6.png'),\n",
    "    os.path.join(test_dir, 'id10945'+ os.sep + '10.png')\n",
    "]\n",
    "\n",
    "for i, file in enumerate(files):\n",
    "    # prepare image\n",
    "    test_img = prepare(file)\n",
    "    # get softmax probability for each class\n",
    "    prob = model.predict(test_img)\n",
    "    index = np.argmax(prob)\n",
    "    prob_max = np.max(prob)\n",
    "    prob_max = round(float(prob_max),2) * 100\n",
    "    # get predicted spaker name\n",
    "    id = class_names[index]\n",
    "    metadata = get_metadata()\n",
    "    pred_speaker = metadata.loc[metadata['VoxCeleb1 ID'] == id]\n",
    "    pred_name = pred_speaker['VGGFace1 ID'].item()\n",
    "    # get true speaker name\n",
    "    true_id = os.path.basename(os.path.dirname(file))\n",
    "    true_speaker = metadata.loc[metadata['VoxCeleb1 ID'] == true_id]\n",
    "    true_name = true_speaker['VGGFace1 ID'].item()\n",
    "    # print results \n",
    "    print('Prediction: ', i + 1)\n",
    "    print(f'Predicted speaker {pred_name} with probability {prob_max} %')\n",
    "    print('True speaker name:', true_name)\n",
    "    print('')"
   ]
  }
 ]
}